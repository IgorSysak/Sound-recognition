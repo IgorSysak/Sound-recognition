{
 "cells": [
  {
   "cell_type": "code",
   "execution_count": 1,
   "outputs": [],
   "source": [
    "import numpy as np\n",
    "import os\n",
    "os.environ['PYTHONHASHSEED'] = '0'\n",
    "np.random.seed(42)\n",
    "from scipy.io import wavfile\n",
    "import numpy as np\n",
    "from sklearn.preprocessing import LabelBinarizer\n",
    "labelbinarizer = LabelBinarizer()\n",
    "import os\n",
    "from scipy import signal\n",
    "from shutil import copyfile\n",
    "import random"
   ],
   "metadata": {
    "collapsed": false,
    "pycharm": {
     "name": "#%%\n"
    }
   }
  },
  {
   "cell_type": "code",
   "execution_count": 2,
   "outputs": [],
   "source": [
    "def Convert_To_06(samples):\n",
    "    sample_rate=8000\n",
    "    WindowSize = 40\n",
    "    LeftSeek = 300\n",
    "    RezFileLength = 0.6\n",
    "\n",
    "\n",
    "    if  len(samples) <= int(0.6*sample_rate):\n",
    "        return samples\n",
    "\n",
    "    Samples_SUM = np.arange(len(samples), dtype='float64')\n",
    "    ResultS = np.arange(int(RezFileLength * sample_rate), dtype=samples.dtype)\n",
    "    Samples_Float = np.arange(len(samples), dtype='float64')\n",
    "\n",
    "    # ------ARRAY -----AverageSum--------------------------\n",
    "    Average = 0.0\n",
    "    for i in range(len(samples)):\n",
    "        Average += samples[i]\n",
    "\n",
    "    Average = Average / len(samples)\n",
    "    for i in range(len(samples)):\n",
    "        Samples_Float[i] = abs(samples[i] - Average)\n",
    "\n",
    "    MaxSum = 0\n",
    "    TotalSum = 0\n",
    "    for i in range(len(Samples_SUM)):\n",
    "        Samples_SUM[i] = 0\n",
    "    i = WindowSize\n",
    "    while i < (len(samples) - WindowSize - 1):\n",
    "        CurentSum = 0\n",
    "        J = -WindowSize\n",
    "        while J < WindowSize:\n",
    "            CurentSum = CurentSum + Samples_Float[i + J]\n",
    "            J = J + 1\n",
    "        Samples_SUM[i] = CurentSum / (2 * WindowSize + 1)\n",
    "        if MaxSum < Samples_SUM[i]:\n",
    "            MaxSum = Samples_SUM[i]\n",
    "\n",
    "        i += 1\n",
    "    Thresholt = MaxSum / 6\n",
    "    for asum in Samples_SUM:\n",
    "        if Thresholt < asum:\n",
    "            TotalSum += asum\n",
    "    CenterIndex = 0\n",
    "    CurentSum = Samples_SUM[0]\n",
    "\n",
    "    while CurentSum < TotalSum / 2:\n",
    "        CenterIndex += 1\n",
    "        CurentSum += Samples_SUM[CenterIndex]\n",
    "\n",
    "    StartIndex = 0\n",
    "    BitRateCount = 0\n",
    "    for i in range(len(Samples_SUM)):\n",
    "        if Samples_SUM[i] > Thresholt:\n",
    "            BitRateCount += 1\n",
    "        else:\n",
    "            BitRateCount = 0\n",
    "        if BitRateCount > WindowSize * 4:\n",
    "            if i > WindowSize * 4 + LeftSeek:\n",
    "                StartIndex = int(i - (WindowSize * 4 + LeftSeek))\n",
    "            break\n",
    "\n",
    "\n",
    "    if CenterIndex < int(StartIndex + (sample_rate * RezFileLength / 2)) and (sample_rate * RezFileLength / 2) < CenterIndex:\n",
    "        StartIndex = CenterIndex - (sample_rate * RezFileLength / 2)\n",
    "    if StartIndex + sample_rate * RezFileLength > len(samples):\n",
    "        StartIndex = len(samples) - sample_rate * RezFileLength\n",
    "    StartIndex = int(StartIndex)\n",
    "    for i in range(int(RezFileLength * sample_rate)):\n",
    "        ResultS[i] = samples[i + StartIndex]\n",
    "    return  ResultS\n",
    "\n",
    "def ConvertTo_8K(SourceDir, TargetDirectory,Prefics, ClassType ):\n",
    "    #  -------Load Files----------------------------------------\n",
    "    Wav_Files = []\n",
    "    for d, dirs, files in os.walk(SourceDir):\n",
    "        for file in files:\n",
    "            if file.endswith(\".wav\"):\n",
    "                Wav_Files.append(file)\n",
    "    #  -------Convert to 8K and Raname and Save Files----------------------------------------\n",
    "    for wfile in Wav_Files:\n",
    "        curerentFile = SourceDir + \"/\" + wfile\n",
    "        sample_rate, samples = wavfile.read(curerentFile)\n",
    "\n",
    "        i = wfile.find(\".wav\")\n",
    "        FileName = wfile[:i]\n",
    "        FileName = FileName.replace(\"_nohash_\", \"\")\n",
    "\n",
    "        if sample_rate == 16000:\n",
    "            lennewarray = int(len(samples) / 2)\n",
    "            f = signal.resample(samples, lennewarray)\n",
    "            Samples_1 = np.arange(lennewarray, dtype=samples.dtype)\n",
    "            for i in range(lennewarray):\n",
    "                Samples_1[i] = int(f[i])\n",
    "            curerentFile = TargetDirectory+ \"/\"+ Prefics + FileName + \"_0000_\" + ClassType + \".wav\"\n",
    "            Samples_final = Convert_To_06(Samples_1)\n",
    "            wavfile.write(curerentFile, 8000, Samples_final)\n",
    "\n",
    "        if sample_rate == 8000:\n",
    "            curerentFile = TargetDirectory + FileName + \"+0000_\" + ClassType + \".wav\"\n",
    "            Samples_final = Convert_To_06(samples)\n",
    "            wavfile.write(curerentFile, sample_rate, Samples_final)\n",
    "\n",
    "\n",
    "def Divide_TrainTestValid(SourceDirectory, TrainDirectory, TestDirectory, ValidDirectory,TestPercent, ValidPercent):\n",
    "\n",
    "    Clas1_Files = []\n",
    "    Clas2_Files = []\n",
    "    Clas3_Files = []\n",
    "    Test_Files = []\n",
    "    Clas1_ID = \"cl_1\"\n",
    "    Clas2_ID = \"cl_2\"\n",
    "    Clas3_ID = \"cl_3\"\n",
    "\n",
    "    Wav_Files = []\n",
    "    for d, dirs, files in os.walk(SourceDirectory):\n",
    "        for file in files:\n",
    "            if file.endswith(\".wav\"):\n",
    "                Wav_Files.append(file)\n",
    "    for fwav in Wav_Files:\n",
    "        if Clas1_ID in fwav:\n",
    "            Clas1_Files.append(fwav)\n",
    "        if Clas2_ID in fwav:\n",
    "            Clas2_Files.append(fwav)\n",
    "        if Clas3_ID in fwav:\n",
    "            Clas3_Files.append(fwav)\n",
    "\n",
    "    TestSize = len(Clas1_Files)\n",
    "    if TestSize > len(Clas2_Files):\n",
    "        TestSize = len(Clas2_Files)\n",
    "    if TestSize > len(Clas3_Files):\n",
    "        TestSize = len(Clas3_Files)\n",
    "    ValidSize = int(TestSize * ValidPercent)\n",
    "    TestSize = int(TestSize * TestPercent)\n",
    "\n",
    "    # ------------------TEST----------------------------------------\n",
    "\n",
    "    for i in range(TestSize):\n",
    "        Index = random.randint(0, len(Clas1_Files) - 1)\n",
    "        Test_Files.append(Clas1_Files[Index])\n",
    "        del Clas1_Files[Index]\n",
    "        Index = random.randint(0, len(Clas2_Files) - 1)\n",
    "        Test_Files.append(Clas2_Files[Index])\n",
    "        del Clas2_Files[Index]\n",
    "        Index = random.randint(0, len(Clas3_Files) - 1)\n",
    "        Test_Files.append(Clas3_Files[Index])\n",
    "        del Clas3_Files[Index]\n",
    "\n",
    "    for tFile in Test_Files:\n",
    "        src = SourceDirectory + \"/\"+ tFile\n",
    "        dst = TestDirectory + \"/\"+ tFile\n",
    "        copyfile(src, dst)\n",
    "   # ------------------TEST---------------------------------------\n",
    "\n",
    "\n",
    "  # ------------------Valid----------------------------------------\n",
    "    Test_Files = []\n",
    "    for i in range(ValidSize):\n",
    "        Index = random.randint(0, len(Clas1_Files) - 1)\n",
    "        Test_Files.append(Clas1_Files[Index])\n",
    "        del Clas1_Files[Index]\n",
    "        Index = random.randint(0, len(Clas2_Files) - 1)\n",
    "        Test_Files.append(Clas2_Files[Index])\n",
    "        del Clas2_Files[Index]\n",
    "        Index = random.randint(0, len(Clas3_Files) - 1)\n",
    "        Test_Files.append(Clas3_Files[Index])\n",
    "        del Clas3_Files[Index]\n",
    "\n",
    "    for tFile in Test_Files:\n",
    "        src = SourceDirectory + \"/\"+ tFile\n",
    "        dst =ValidDirectory + \"/\"+ tFile\n",
    "        copyfile(src, dst)\n",
    "    # ------------------Valid---------------------------------------\n",
    "\n",
    "\n",
    "    Train_Files = Clas1_Files + Clas2_Files + Clas3_Files\n",
    "    for tFile in Train_Files:\n",
    "        src = SourceDirectory + \"/\"+  tFile\n",
    "        dst = TrainDirectory + \"/\"+  tFile\n",
    "        copyfile(src, dst)"
   ],
   "metadata": {
    "collapsed": false,
    "pycharm": {
     "name": "#%%\n"
    }
   }
  },
  {
   "cell_type": "code",
   "execution_count": 3,
   "outputs": [],
   "source": [
    "ConvertTo_8K(SourceDir=r'D:\\data\\no', TargetDirectory=r'D:\\PythonProject\\Probe\\PracticalTraining\\My_data', Prefics='no',\n",
    "                 ClassType='cl_1')\n",
    "ConvertTo_8K(SourceDir=r'D:\\data\\bed', TargetDirectory=r'D:\\PythonProject\\Probe\\PracticalTraining\\My_data', Prefics='bed',\n",
    "                 ClassType='cl_2')\n",
    "ConvertTo_8K(SourceDir=r'D:\\data\\other', TargetDirectory=r'D:\\PythonProject\\Probe\\PracticalTraining\\My_data', Prefics='other',\n",
    "                  ClassType='cl_3')\n"
   ],
   "metadata": {
    "collapsed": false,
    "pycharm": {
     "name": "#%%\n"
    }
   }
  },
  {
   "cell_type": "code",
   "execution_count": 4,
   "outputs": [],
   "source": [
    "Divide_TrainTestValid(SourceDirectory=r'D:\\PythonProject\\Probe\\PracticalTraining\\My_data',\n",
    "                           TrainDirectory=r'D:\\PythonProject\\Probe\\PracticalTraining\\Train',\n",
    "                           TestDirectory=r'D:\\PythonProject\\Probe\\PracticalTraining\\Test',\n",
    "                           ValidDirectory=r'D:\\PythonProject\\Probe\\PracticalTraining\\Valid',\n",
    "                           TestPercent=0.1,\n",
    "                           ValidPercent=0.1)\n"
   ],
   "metadata": {
    "collapsed": false,
    "pycharm": {
     "name": "#%%\n"
    }
   }
  },
  {
   "cell_type": "code",
   "execution_count": 4,
   "outputs": [],
   "source": [],
   "metadata": {
    "collapsed": false,
    "pycharm": {
     "name": "#%%\n"
    }
   }
  },
  {
   "cell_type": "code",
   "execution_count": 4,
   "outputs": [],
   "source": [],
   "metadata": {
    "collapsed": false,
    "pycharm": {
     "name": "#%%\n"
    }
   }
  },
  {
   "cell_type": "code",
   "execution_count": 4,
   "outputs": [],
   "source": [],
   "metadata": {
    "collapsed": false,
    "pycharm": {
     "name": "#%%\n"
    }
   }
  },
  {
   "cell_type": "code",
   "execution_count": 4,
   "metadata": {
    "collapsed": true
   },
   "outputs": [],
   "source": []
  }
 ],
 "metadata": {
  "kernelspec": {
   "display_name": "Python 3",
   "language": "python",
   "name": "python3"
  },
  "language_info": {
   "codemirror_mode": {
    "name": "ipython",
    "version": 2
   },
   "file_extension": ".py",
   "mimetype": "text/x-python",
   "name": "python",
   "nbconvert_exporter": "python",
   "pygments_lexer": "ipython2",
   "version": "2.7.6"
  }
 },
 "nbformat": 4,
 "nbformat_minor": 0
}